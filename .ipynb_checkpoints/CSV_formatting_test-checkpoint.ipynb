{
 "cells": [
  {
   "cell_type": "code",
   "execution_count": 55,
   "metadata": {},
   "outputs": [],
   "source": [
    "import random\n",
    "import pandas as pd\n",
    "import csv"
   ]
  },
  {
   "cell_type": "code",
   "execution_count": 46,
   "metadata": {},
   "outputs": [],
   "source": [
    "ina_toy_data = [random.random() * 500.0, 5.0, 34534679852.234234234]"
   ]
  },
  {
   "cell_type": "code",
   "execution_count": 51,
   "metadata": {},
   "outputs": [
    {
     "name": "stdout",
     "output_type": "stream",
     "text": [
      "[407.1787827156899, 5.0, 34534679852.23424]\n"
     ]
    }
   ],
   "source": [
    "print ina_toy_data"
   ]
  },
  {
   "cell_type": "code",
   "execution_count": 52,
   "metadata": {},
   "outputs": [],
   "source": [
    "newDF = pd.DataFrame(columns=['mA','V','time'])"
   ]
  },
  {
   "cell_type": "code",
   "execution_count": 53,
   "metadata": {},
   "outputs": [],
   "source": [
    "for i in list(range(10)):\n",
    "    ina_toy_data = [random.random() * 500.0, 5.0, 34534679852.234234234]\n",
    "    #print ina_toy_data\n",
    "    newDF = newDF.append({'mA' : ina_toy_data[0] , 'V' : ina_toy_data[1], 'time': ina_toy_data[2]},ignore_index=True)\n",
    "    "
   ]
  },
  {
   "cell_type": "code",
   "execution_count": 54,
   "metadata": {},
   "outputs": [
    {
     "data": {
      "text/html": [
       "<div>\n",
       "<style scoped>\n",
       "    .dataframe tbody tr th:only-of-type {\n",
       "        vertical-align: middle;\n",
       "    }\n",
       "\n",
       "    .dataframe tbody tr th {\n",
       "        vertical-align: top;\n",
       "    }\n",
       "\n",
       "    .dataframe thead th {\n",
       "        text-align: right;\n",
       "    }\n",
       "</style>\n",
       "<table border=\"1\" class=\"dataframe\">\n",
       "  <thead>\n",
       "    <tr style=\"text-align: right;\">\n",
       "      <th></th>\n",
       "      <th>mA</th>\n",
       "      <th>V</th>\n",
       "      <th>time</th>\n",
       "    </tr>\n",
       "  </thead>\n",
       "  <tbody>\n",
       "    <tr>\n",
       "      <th>0</th>\n",
       "      <td>382.388198</td>\n",
       "      <td>5.0</td>\n",
       "      <td>3.453468e+10</td>\n",
       "    </tr>\n",
       "    <tr>\n",
       "      <th>1</th>\n",
       "      <td>334.880684</td>\n",
       "      <td>5.0</td>\n",
       "      <td>3.453468e+10</td>\n",
       "    </tr>\n",
       "    <tr>\n",
       "      <th>2</th>\n",
       "      <td>120.192684</td>\n",
       "      <td>5.0</td>\n",
       "      <td>3.453468e+10</td>\n",
       "    </tr>\n",
       "    <tr>\n",
       "      <th>3</th>\n",
       "      <td>311.005315</td>\n",
       "      <td>5.0</td>\n",
       "      <td>3.453468e+10</td>\n",
       "    </tr>\n",
       "    <tr>\n",
       "      <th>4</th>\n",
       "      <td>156.138609</td>\n",
       "      <td>5.0</td>\n",
       "      <td>3.453468e+10</td>\n",
       "    </tr>\n",
       "    <tr>\n",
       "      <th>5</th>\n",
       "      <td>53.364644</td>\n",
       "      <td>5.0</td>\n",
       "      <td>3.453468e+10</td>\n",
       "    </tr>\n",
       "    <tr>\n",
       "      <th>6</th>\n",
       "      <td>206.107308</td>\n",
       "      <td>5.0</td>\n",
       "      <td>3.453468e+10</td>\n",
       "    </tr>\n",
       "    <tr>\n",
       "      <th>7</th>\n",
       "      <td>46.388294</td>\n",
       "      <td>5.0</td>\n",
       "      <td>3.453468e+10</td>\n",
       "    </tr>\n",
       "    <tr>\n",
       "      <th>8</th>\n",
       "      <td>153.751567</td>\n",
       "      <td>5.0</td>\n",
       "      <td>3.453468e+10</td>\n",
       "    </tr>\n",
       "    <tr>\n",
       "      <th>9</th>\n",
       "      <td>474.936121</td>\n",
       "      <td>5.0</td>\n",
       "      <td>3.453468e+10</td>\n",
       "    </tr>\n",
       "  </tbody>\n",
       "</table>\n",
       "</div>"
      ],
      "text/plain": [
       "           mA    V          time\n",
       "0  382.388198  5.0  3.453468e+10\n",
       "1  334.880684  5.0  3.453468e+10\n",
       "2  120.192684  5.0  3.453468e+10\n",
       "3  311.005315  5.0  3.453468e+10\n",
       "4  156.138609  5.0  3.453468e+10\n",
       "5   53.364644  5.0  3.453468e+10\n",
       "6  206.107308  5.0  3.453468e+10\n",
       "7   46.388294  5.0  3.453468e+10\n",
       "8  153.751567  5.0  3.453468e+10\n",
       "9  474.936121  5.0  3.453468e+10"
      ]
     },
     "execution_count": 54,
     "metadata": {},
     "output_type": "execute_result"
    }
   ],
   "source": [
    "newDF"
   ]
  },
  {
   "cell_type": "code",
   "execution_count": null,
   "metadata": {},
   "outputs": [],
   "source": []
  }
 ],
 "metadata": {
  "kernelspec": {
   "display_name": "Python 2",
   "language": "python",
   "name": "python2"
  },
  "language_info": {
   "codemirror_mode": {
    "name": "ipython",
    "version": 2
   },
   "file_extension": ".py",
   "mimetype": "text/x-python",
   "name": "python",
   "nbconvert_exporter": "python",
   "pygments_lexer": "ipython2",
   "version": "2.7.15"
  }
 },
 "nbformat": 4,
 "nbformat_minor": 2
}
